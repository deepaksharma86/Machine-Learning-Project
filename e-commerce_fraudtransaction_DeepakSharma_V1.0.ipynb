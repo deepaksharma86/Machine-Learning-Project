{
 "cells": [
  {
   "cell_type": "markdown",
   "metadata": {},
   "source": [
    "# Final Project: Build a predictive model for determining if a customer transaction is fraudulent\n",
    "\n"
   ]
  },
  {
   "cell_type": "markdown",
   "metadata": {},
   "source": [
    "Our customer is an e-commerce site that sells wholesale electronics. You have been contracted to build\n",
    "\n",
    "a model that predicts whether a given transaction is fraudulent or not. You only have information\n",
    "\n",
    "about each user’s first transaction on the company's website. If you fail to identify a fraudulent\n",
    "\n",
    "transaction, the company loses money equivalent to the price of the fraudulently purchased product. If\n",
    "\n",
    "you incorrectly flag a real transaction as fraudulent, it inconveniences the customers\n",
    "\n",
    "whose valid transactions are flagged—a cost your client values at $8.\n",
    "\n",
    "So, the task is to build a model that's predictive but also minimizes to cost to the company not only by correctly flagging and identifying fraudulent transactions but also to minimize the cost of wrong predictions since each wrong prediction costs the company $8.\n",
    "\n",
    "You can use any model that we learned about in the class or you might have learnt about else where. The evaluation criteria will be total cost to company for the test data provided; for example if your model identifies 100 cases as fraudulent while they are normal transactions, this would cost the company $8 * 100  = $800.\n",
    "\n",
    "There are 2 files included in this assignment:\n",
    "\n",
    "- training data to build your models:\n",
    "\n",
    "datasetForFinalAssignment.csv\n",
    "- test data to apply your models to predict if the transaction id fraudulent or not.\n",
    "\n",
    "datasetForFinalTest.csv"
   ]
  },
  {
   "cell_type": "code",
   "execution_count": 3,
   "metadata": {},
   "outputs": [],
   "source": [
    "# To support both python 2 and python 3\n",
    "from __future__ import division, print_function, unicode_literals\n",
    "\n",
    "# 1.0 Clear ipython memory\n",
    "%reset -f\n",
    "\n",
    "# Common imports\n",
    "import numpy as np\n",
    "import pandas as pd\n",
    "import os\n",
    "import gc\n",
    "import time\n",
    "import datetime as dt\n",
    "\n",
    "# to make this notebook's output stable across runs\n",
    "#Somehow this is not happening as o/p of models is not consistent\n",
    "np.random.seed(42)\n",
    "\n",
    "# Ignore useless warnings (see SciPy issue #5998)\n",
    "import warnings\n",
    "warnings.filterwarnings(action=\"ignore\", module=\"scipy\", message=\"^internal gelsd\")"
   ]
  },
  {
   "cell_type": "code",
   "execution_count": 4,
   "metadata": {},
   "outputs": [],
   "source": [
    "# 1.1 Working with imbalanced data\n",
    "# http://contrib.scikit-learn.org/imbalanced-learn/stable/generated/imblearn.over_sampling.SMOTE.html\n",
    "# Check imblearn version number as:\n",
    "#   import imblearn;  imblearn.__version__\n",
    "from imblearn.over_sampling import SMOTE, ADASYN\n"
   ]
  },
  {
   "cell_type": "code",
   "execution_count": 5,
   "metadata": {},
   "outputs": [],
   "source": [
    "# 1.2 Class for applying multiple data transformation jobs\n",
    "from sklearn.compose import ColumnTransformer as ct\n",
    "# Scale numeric data\n",
    "from sklearn.preprocessing import StandardScaler as ss\n",
    "# One hot encode data--Convert to dummy\n",
    "from sklearn.preprocessing import OneHotEncoder as ohe\n"
   ]
  },
  {
   "cell_type": "code",
   "execution_count": 6,
   "metadata": {},
   "outputs": [
    {
     "name": "stderr",
     "output_type": "stream",
     "text": [
      "Using TensorFlow backend.\n"
     ]
    }
   ],
   "source": [
    "# 1.3 Dimensionality reduction\n",
    "from sklearn.decomposition import PCA\n",
    "\n",
    "# 1.4 Data splitting and model parameter search\n",
    "from sklearn.model_selection import train_test_split\n",
    "from sklearn.linear_model import LogisticRegression\n",
    "\n",
    "\n",
    "# 1.5 Modeling modules\n",
    "# conda install -c anaconda py-xgboost\n",
    "#from xgboost.sklearn import XGBClassifier\n",
    "from sklearn.tree import DecisionTreeClassifier\n",
    "from sklearn.ensemble import RandomForestClassifier\n",
    "from keras.models import Sequential\n",
    "from keras.layers import Dense, Activation, Dropout\n",
    "\n",
    "\n",
    "# 1.6 Model evaluation metrics\n",
    "from sklearn import metrics\n",
    "from sklearn.metrics import accuracy_score\n",
    "from sklearn.metrics import auc, roc_curve\n",
    "\n",
    "# 1.7\n",
    "import matplotlib.pyplot as plt"
   ]
  },
  {
   "cell_type": "markdown",
   "metadata": {},
   "source": [
    "\n",
    "##### *Step1*  -- Load the Dataset into a dataframe called transactions and Preparing the graphs for the labeled data\n",
    "#####       -- Load the Validation Dataset into a dataframe called validate\n"
   ]
  },
  {
   "cell_type": "code",
   "execution_count": 7,
   "metadata": {},
   "outputs": [
    {
     "name": "stdout",
     "output_type": "stream",
     "text": [
      "<class 'pandas.core.frame.DataFrame'>\n",
      "RangeIndex: 74691 entries, 0 to 74690\n",
      "Data columns (total 14 columns):\n",
      "Column 1                     74691 non-null int64\n",
      "user_id                      74691 non-null int64\n",
      "signup_time                  74691 non-null object\n",
      "purchase_time                74691 non-null object\n",
      "signup_time-purchase_time    74691 non-null int64\n",
      "purchase_value               74691 non-null int64\n",
      "device_id                    74691 non-null object\n",
      "source                       74691 non-null object\n",
      "browser                      74691 non-null object\n",
      "sex                          74691 non-null object\n",
      "age                          74691 non-null int64\n",
      "ip_address                   74691 non-null float64\n",
      "class                        74691 non-null int64\n",
      "N[device_id]                 74691 non-null int64\n",
      "dtypes: float64(1), int64(7), object(6)\n",
      "memory usage: 8.0+ MB\n"
     ]
    }
   ],
   "source": [
    "transactions = pd.read_csv(\"datasetForFinalAssignment (1).csv\")\n",
    "transactions.info()"
   ]
  },
  {
   "cell_type": "code",
   "execution_count": 8,
   "metadata": {},
   "outputs": [
    {
     "data": {
      "text/plain": [
       "<matplotlib.axes._subplots.AxesSubplot at 0x27e3e481d0>"
      ]
     },
     "execution_count": 8,
     "metadata": {},
     "output_type": "execute_result"
    },
    {
     "data": {
      "image/png": "[encoded data removed]",
      "text/plain": [
       "<Figure size 432x288 with 1 Axes>"
      ]
     },
     "metadata": {
      "needs_background": "light"
     },
     "output_type": "display_data"
    }
   ],
   "source": [
    "import seaborn as sns\n",
    "sns.countplot(x=\"class\", data=transactions)"
   ]
  },
  {
   "cell_type": "code",
   "execution_count": 9,
   "metadata": {},
   "outputs": [
    {
     "data": {
      "image/png": "[encoded data removed]",
      "text/plain": [
       "<Figure size 360x360 with 1 Axes>"
      ]
     },
     "metadata": {
      "needs_background": "light"
     },
     "output_type": "display_data"
    }
   ],
   "source": [
    "fig=plt.figure(figsize=(5,5))\n",
    "ax=fig.add_subplot(111)\n",
    "sns.countplot(\"browser\",hue=\"class\", data=transactions, ax=ax)\n",
    "plt.show()"
   ]
  },
  {
   "cell_type": "code",
   "execution_count": 10,
   "metadata": {},
   "outputs": [],
   "source": [
    "## In first graph, we found that the data is highly imbalanced and any predictions will lead to non-fraudlent decisions.\n",
    "## From the second graph, we got to know that Chrome is having the most imbalanced data. "
   ]
  },
  {
   "cell_type": "code",
   "execution_count": 11,
   "metadata": {},
   "outputs": [
    {
     "name": "stdout",
     "output_type": "stream",
     "text": [
      "<class 'pandas.core.frame.DataFrame'>\n",
      "RangeIndex: 13413 entries, 0 to 13412\n",
      "Data columns (total 13 columns):\n",
      "Column 1                     13413 non-null int64\n",
      "user_id                      13413 non-null int64\n",
      "signup_time                  13413 non-null object\n",
      "purchase_time                13413 non-null object\n",
      "signup_time-purchase_time    13413 non-null int64\n",
      "purchase_value               13413 non-null int64\n",
      "device_id                    13413 non-null object\n",
      "source                       13413 non-null object\n",
      "browser                      13413 non-null object\n",
      "sex                          13413 non-null object\n",
      "age                          13413 non-null int64\n",
      "ip_address                   13413 non-null float64\n",
      "N[device_id]                 13413 non-null int64\n",
      "dtypes: float64(1), int64(6), object(6)\n",
      "memory usage: 1.3+ MB\n"
     ]
    }
   ],
   "source": [
    "validate=pd.read_csv(\"datasetForFinalTest.csv\")\n",
    "validate.info()"
   ]
  },
  {
   "cell_type": "code",
   "execution_count": 12,
   "metadata": {},
   "outputs": [
    {
     "data": {
      "text/html": [
       "<div>\n",
       "<style scoped>\n",
       "    .dataframe tbody tr th:only-of-type {\n",
       "        vertical-align: middle;\n",
       "    }\n",
       "\n",
       "    .dataframe tbody tr th {\n",
       "        vertical-align: top;\n",
       "    }\n",
       "\n",
       "    .dataframe thead th {\n",
       "        text-align: right;\n",
       "    }\n",
       "</style>\n",
       "<table border=\"1\" class=\"dataframe\">\n",
       "  <thead>\n",
       "    <tr style=\"text-align: right;\">\n",
       "      <th></th>\n",
       "      <th>Column 1</th>\n",
       "      <th>user_id</th>\n",
       "      <th>signup_time</th>\n",
       "      <th>purchase_time</th>\n",
       "      <th>signup_time-purchase_time</th>\n",
       "      <th>purchase_value</th>\n",
       "      <th>device_id</th>\n",
       "      <th>source</th>\n",
       "      <th>browser</th>\n",
       "      <th>sex</th>\n",
       "      <th>age</th>\n",
       "      <th>ip_address</th>\n",
       "      <th>class</th>\n",
       "      <th>N[device_id]</th>\n",
       "    </tr>\n",
       "  </thead>\n",
       "  <tbody>\n",
       "    <tr>\n",
       "      <th>0</th>\n",
       "      <td>149671</td>\n",
       "      <td>285108</td>\n",
       "      <td>07/15/2015 4:36 AM</td>\n",
       "      <td>09/10/2015 2:17 PM</td>\n",
       "      <td>82661</td>\n",
       "      <td>31</td>\n",
       "      <td>HZAKVUFTDOSFD</td>\n",
       "      <td>Direct</td>\n",
       "      <td>Chrome</td>\n",
       "      <td>M</td>\n",
       "      <td>49</td>\n",
       "      <td>2.818400e+09</td>\n",
       "      <td>0</td>\n",
       "      <td>2</td>\n",
       "    </tr>\n",
       "    <tr>\n",
       "      <th>1</th>\n",
       "      <td>84546</td>\n",
       "      <td>229053</td>\n",
       "      <td>01/07/2015 1:19 PM</td>\n",
       "      <td>01/09/2015 10:12 AM</td>\n",
       "      <td>2693</td>\n",
       "      <td>29</td>\n",
       "      <td>MFFIHYNXCJLEY</td>\n",
       "      <td>SEO</td>\n",
       "      <td>Chrome</td>\n",
       "      <td>M</td>\n",
       "      <td>34</td>\n",
       "      <td>2.083420e+09</td>\n",
       "      <td>0</td>\n",
       "      <td>1</td>\n",
       "    </tr>\n",
       "    <tr>\n",
       "      <th>2</th>\n",
       "      <td>35978</td>\n",
       "      <td>108439</td>\n",
       "      <td>02/08/2015 9:11 PM</td>\n",
       "      <td>04/09/2015 2:26 PM</td>\n",
       "      <td>85995</td>\n",
       "      <td>26</td>\n",
       "      <td>WMSXWGVPNIFBM</td>\n",
       "      <td>Ads</td>\n",
       "      <td>FireFox</td>\n",
       "      <td>M</td>\n",
       "      <td>33</td>\n",
       "      <td>3.207913e+09</td>\n",
       "      <td>0</td>\n",
       "      <td>1</td>\n",
       "    </tr>\n",
       "    <tr>\n",
       "      <th>3</th>\n",
       "      <td>103053</td>\n",
       "      <td>178528</td>\n",
       "      <td>04/20/2015 8:19 PM</td>\n",
       "      <td>08/03/2015 8:17 PM</td>\n",
       "      <td>151198</td>\n",
       "      <td>35</td>\n",
       "      <td>HUFZWLDYJPRCK</td>\n",
       "      <td>SEO</td>\n",
       "      <td>Chrome</td>\n",
       "      <td>F</td>\n",
       "      <td>30</td>\n",
       "      <td>2.550204e+09</td>\n",
       "      <td>0</td>\n",
       "      <td>1</td>\n",
       "    </tr>\n",
       "    <tr>\n",
       "      <th>4</th>\n",
       "      <td>101025</td>\n",
       "      <td>70424</td>\n",
       "      <td>07/05/2015 4:54 PM</td>\n",
       "      <td>08/25/2015 4:08 PM</td>\n",
       "      <td>73394</td>\n",
       "      <td>43</td>\n",
       "      <td>YDLNPVEWMTMMZ</td>\n",
       "      <td>Direct</td>\n",
       "      <td>IE</td>\n",
       "      <td>M</td>\n",
       "      <td>40</td>\n",
       "      <td>3.310808e+09</td>\n",
       "      <td>0</td>\n",
       "      <td>1</td>\n",
       "    </tr>\n",
       "  </tbody>\n",
       "</table>\n",
       "</div>"
      ],
      "text/plain": [
       "   Column 1  user_id         signup_time        purchase_time  \\\n",
       "0    149671   285108  07/15/2015 4:36 AM   09/10/2015 2:17 PM   \n",
       "1     84546   229053  01/07/2015 1:19 PM  01/09/2015 10:12 AM   \n",
       "2     35978   108439  02/08/2015 9:11 PM   04/09/2015 2:26 PM   \n",
       "3    103053   178528  04/20/2015 8:19 PM   08/03/2015 8:17 PM   \n",
       "4    101025    70424  07/05/2015 4:54 PM   08/25/2015 4:08 PM   \n",
       "\n",
       "   signup_time-purchase_time  purchase_value      device_id  source  browser  \\\n",
       "0                      82661              31  HZAKVUFTDOSFD  Direct   Chrome   \n",
       "1                       2693              29  MFFIHYNXCJLEY     SEO   Chrome   \n",
       "2                      85995              26  WMSXWGVPNIFBM     Ads  FireFox   \n",
       "3                     151198              35  HUFZWLDYJPRCK     SEO   Chrome   \n",
       "4                      73394              43  YDLNPVEWMTMMZ  Direct       IE   \n",
       "\n",
       "  sex  age    ip_address  class  N[device_id]  \n",
       "0   M   49  2.818400e+09      0             2  \n",
       "1   M   34  2.083420e+09      0             1  \n",
       "2   M   33  3.207913e+09      0             1  \n",
       "3   F   30  2.550204e+09      0             1  \n",
       "4   M   40  3.310808e+09      0             1  "
      ]
     },
     "execution_count": 12,
     "metadata": {},
     "output_type": "execute_result"
    }
   ],
   "source": [
    "#columns = transactions.columns\n",
    "#columns\n",
    "transactions.head()"
   ]
  },
  {
   "cell_type": "markdown",
   "metadata": {},
   "source": [
    "signup_time-purchase_time: provides the information of timeElapsed between signup and purchase. This is already provided so no need to compute timeBetween\n",
    "\n",
    "N[device_id]: also provided so no need to compute numberOfTimesDeviceUsed"
   ]
  },
  {
   "cell_type": "markdown",
   "metadata": {},
   "source": [
    "### Insight from data exploration:\n",
    "\n",
    "   - Time between signup and purchase and how many times the same device was used are important, we'll explore the relationship between target variable and the new features that we created *timeBetween* and *numberOfTimesDeviceUsed* in detail\n",
    "   - Looks like the categorical values are sampled similarly for both values of target variable, no concern for sampling bias "
   ]
  },
  {
   "cell_type": "markdown",
   "metadata": {
    "collapsed": true
   },
   "source": [
    "##### What percentage of all the transactions in our dataset were fraudulent transactions?\n",
    "\n",
    "Percentage of all the transactions in our dataset that were fraudulent = 9.38 %"
   ]
  },
  {
   "cell_type": "markdown",
   "metadata": {},
   "source": [
    "##### Step5 -- Making copies of test and validation data\n"
   ]
  },
  {
   "cell_type": "code",
   "execution_count": 13,
   "metadata": {},
   "outputs": [
    {
     "name": "stdout",
     "output_type": "stream",
     "text": [
      "<class 'pandas.core.frame.DataFrame'>\n",
      "RangeIndex: 74691 entries, 0 to 74690\n",
      "Data columns (total 14 columns):\n",
      "Column 1                     74691 non-null int64\n",
      "user_id                      74691 non-null int64\n",
      "signup_time                  74691 non-null object\n",
      "purchase_time                74691 non-null object\n",
      "signup_time-purchase_time    74691 non-null int64\n",
      "purchase_value               74691 non-null int64\n",
      "device_id                    74691 non-null object\n",
      "source                       74691 non-null object\n",
      "browser                      74691 non-null object\n",
      "sex                          74691 non-null object\n",
      "age                          74691 non-null int64\n",
      "ip_address                   74691 non-null float64\n",
      "class                        74691 non-null int64\n",
      "N[device_id]                 74691 non-null int64\n",
      "dtypes: float64(1), int64(7), object(6)\n",
      "memory usage: 8.0+ MB\n"
     ]
    }
   ],
   "source": [
    "X = transactions.copy() # independent variables data\n",
    "y = X['class']\n",
    "X.info()"
   ]
  },
  {
   "cell_type": "code",
   "execution_count": 14,
   "metadata": {},
   "outputs": [
    {
     "name": "stdout",
     "output_type": "stream",
     "text": [
      "<class 'pandas.core.frame.DataFrame'>\n",
      "RangeIndex: 74691 entries, 0 to 74690\n",
      "Data columns (total 7 columns):\n",
      "signup_time-purchase_time    74691 non-null int64\n",
      "purchase_value               74691 non-null int64\n",
      "source                       74691 non-null object\n",
      "browser                      74691 non-null object\n",
      "sex                          74691 non-null object\n",
      "age                          74691 non-null int64\n",
      "N[device_id]                 74691 non-null int64\n",
      "dtypes: int64(4), object(3)\n",
      "memory usage: 4.0+ MB\n"
     ]
    }
   ],
   "source": [
    "X.drop(columns = ['class'], inplace = True)\n",
    "X.drop(columns = ['Column 1','user_id','device_id','ip_address','signup_time','purchase_time'], inplace = True)\n",
    "X.info()"
   ]
  },
  {
   "cell_type": "code",
   "execution_count": 15,
   "metadata": {},
   "outputs": [],
   "source": [
    "X_val = validate.copy()"
   ]
  },
  {
   "cell_type": "code",
   "execution_count": 16,
   "metadata": {},
   "outputs": [
    {
     "name": "stdout",
     "output_type": "stream",
     "text": [
      "<class 'pandas.core.frame.DataFrame'>\n",
      "RangeIndex: 13413 entries, 0 to 13412\n",
      "Data columns (total 7 columns):\n",
      "signup_time-purchase_time    13413 non-null int64\n",
      "purchase_value               13413 non-null int64\n",
      "source                       13413 non-null object\n",
      "browser                      13413 non-null object\n",
      "sex                          13413 non-null object\n",
      "age                          13413 non-null int64\n",
      "N[device_id]                 13413 non-null int64\n",
      "dtypes: int64(4), object(3)\n",
      "memory usage: 733.6+ KB\n"
     ]
    }
   ],
   "source": [
    "X_val.drop(columns = ['Column 1','user_id','device_id','ip_address','signup_time','purchase_time'], inplace = True)\n",
    "X_val.info()\n"
   ]
  },
  {
   "cell_type": "code",
   "execution_count": 17,
   "metadata": {},
   "outputs": [
    {
     "data": {
      "text/html": [
       "<div>\n",
       "<style scoped>\n",
       "    .dataframe tbody tr th:only-of-type {\n",
       "        vertical-align: middle;\n",
       "    }\n",
       "\n",
       "    .dataframe tbody tr th {\n",
       "        vertical-align: top;\n",
       "    }\n",
       "\n",
       "    .dataframe thead th {\n",
       "        text-align: right;\n",
       "    }\n",
       "</style>\n",
       "<table border=\"1\" class=\"dataframe\">\n",
       "  <thead>\n",
       "    <tr style=\"text-align: right;\">\n",
       "      <th></th>\n",
       "      <th>signup_time-purchase_time</th>\n",
       "      <th>purchase_value</th>\n",
       "      <th>source</th>\n",
       "      <th>browser</th>\n",
       "      <th>sex</th>\n",
       "      <th>age</th>\n",
       "      <th>N[device_id]</th>\n",
       "    </tr>\n",
       "  </thead>\n",
       "  <tbody>\n",
       "    <tr>\n",
       "      <th>0</th>\n",
       "      <td>82661</td>\n",
       "      <td>31</td>\n",
       "      <td>Direct</td>\n",
       "      <td>Chrome</td>\n",
       "      <td>M</td>\n",
       "      <td>49</td>\n",
       "      <td>2</td>\n",
       "    </tr>\n",
       "    <tr>\n",
       "      <th>1</th>\n",
       "      <td>2693</td>\n",
       "      <td>29</td>\n",
       "      <td>SEO</td>\n",
       "      <td>Chrome</td>\n",
       "      <td>M</td>\n",
       "      <td>34</td>\n",
       "      <td>1</td>\n",
       "    </tr>\n",
       "    <tr>\n",
       "      <th>2</th>\n",
       "      <td>85995</td>\n",
       "      <td>26</td>\n",
       "      <td>Ads</td>\n",
       "      <td>FireFox</td>\n",
       "      <td>M</td>\n",
       "      <td>33</td>\n",
       "      <td>1</td>\n",
       "    </tr>\n",
       "    <tr>\n",
       "      <th>3</th>\n",
       "      <td>151198</td>\n",
       "      <td>35</td>\n",
       "      <td>SEO</td>\n",
       "      <td>Chrome</td>\n",
       "      <td>F</td>\n",
       "      <td>30</td>\n",
       "      <td>1</td>\n",
       "    </tr>\n",
       "    <tr>\n",
       "      <th>4</th>\n",
       "      <td>73394</td>\n",
       "      <td>43</td>\n",
       "      <td>Direct</td>\n",
       "      <td>IE</td>\n",
       "      <td>M</td>\n",
       "      <td>40</td>\n",
       "      <td>1</td>\n",
       "    </tr>\n",
       "  </tbody>\n",
       "</table>\n",
       "</div>"
      ],
      "text/plain": [
       "   signup_time-purchase_time  purchase_value  source  browser sex  age  \\\n",
       "0                      82661              31  Direct   Chrome   M   49   \n",
       "1                       2693              29     SEO   Chrome   M   34   \n",
       "2                      85995              26     Ads  FireFox   M   33   \n",
       "3                     151198              35     SEO   Chrome   F   30   \n",
       "4                      73394              43  Direct       IE   M   40   \n",
       "\n",
       "   N[device_id]  \n",
       "0             2  \n",
       "1             1  \n",
       "2             1  \n",
       "3             1  \n",
       "4             1  "
      ]
     },
     "execution_count": 17,
     "metadata": {},
     "output_type": "execute_result"
    }
   ],
   "source": [
    "X.head()"
   ]
  },
  {
   "cell_type": "markdown",
   "metadata": {},
   "source": [
    "##### Step6 -- Dealing with Categorical and Numerical Variables\n",
    "##### calling OneHotEncoder and StandardScaler within the ColumnTransformer\n"
   ]
  },
  {
   "cell_type": "code",
   "execution_count": 18,
   "metadata": {},
   "outputs": [],
   "source": [
    "#Define the transformation function using columnTransformer, OHE and StandardScaler\n",
    "def transform(categorical_columns,numerical_columns,df):\n",
    "    #  Create a tuple of processing tasks:\n",
    "    #  (taskName, objectToPerformTask, columns-upon-which-to-perform)\n",
    "    # 9.1 One hot encode categorical columns\n",
    "    cat = ('categorical', ohe() , categorical_columns  )\n",
    "    # 9.2 Scale numerical columns\n",
    "    num = ('numeric', ss(), numerical_columns)\n",
    "    # 9.3 Instantiate columnTransformer object to perform task\n",
    "    #     It transforms X separately by each transformer\n",
    "    #     and then concatenates results.\n",
    "    col_trans = ct([cat, num])\n",
    "    # 9.4 Learn data\n",
    "    col_trans.fit(df)\n",
    "    # 9.5 Now transform df\n",
    "    df_transAndScaled = col_trans.transform(df)\n",
    "    # 9.6 Return transformed data and also transformation object\n",
    "    return df_transAndScaled, col_trans\n"
   ]
  },
  {
   "cell_type": "code",
   "execution_count": 19,
   "metadata": {},
   "outputs": [],
   "source": [
    "#Define the columns for transformations\n",
    "categorical_columns = ['source', 'browser','sex']\n",
    "numerical_columns = ['signup_time-purchase_time', 'purchase_value','age','N[device_id]']"
   ]
  },
  {
   "cell_type": "code",
   "execution_count": 20,
   "metadata": {},
   "outputs": [
    {
     "data": {
      "text/plain": [
       "array(['Direct', 'SEO', 'Ads'], dtype=object)"
      ]
     },
     "execution_count": 20,
     "metadata": {},
     "output_type": "execute_result"
    }
   ],
   "source": [
    "X.source.unique() # ['Direct', 'SEO', 'Ads'] 3 values --> columns 0,1,2"
   ]
  },
  {
   "cell_type": "code",
   "execution_count": 21,
   "metadata": {},
   "outputs": [
    {
     "data": {
      "text/plain": [
       "array(['Chrome', 'FireFox', 'IE', 'Safari', 'Opera'], dtype=object)"
      ]
     },
     "execution_count": 21,
     "metadata": {},
     "output_type": "execute_result"
    }
   ],
   "source": [
    "X.browser.unique() # ['Chrome', 'FireFox', 'IE', 'Safari', 'Opera'] 5 values  --> columns 3,4,5,6,7"
   ]
  },
  {
   "cell_type": "code",
   "execution_count": 22,
   "metadata": {},
   "outputs": [
    {
     "data": {
      "text/plain": [
       "array(['M', 'F'], dtype=object)"
      ]
     },
     "execution_count": 22,
     "metadata": {},
     "output_type": "execute_result"
    }
   ],
   "source": [
    "X.sex.unique() # ['M', 'F'] 2 values --> columns 8,9"
   ]
  },
  {
   "cell_type": "code",
   "execution_count": 23,
   "metadata": {},
   "outputs": [
    {
     "data": {
      "text/plain": [
       "['source_Direct',\n",
       " 'source_SEO',\n",
       " 'source_Ads',\n",
       " 'browser_Chrome',\n",
       " 'browser_FireFox',\n",
       " 'browser_IE',\n",
       " 'browser_Safari',\n",
       " 'browser_Opera',\n",
       " 'sex_M',\n",
       " 'sex_F',\n",
       " 'signup_time-purchase_time',\n",
       " 'purchase_value',\n",
       " 'age',\n",
       " 'N[device_id]']"
      ]
     },
     "execution_count": 23,
     "metadata": {},
     "output_type": "execute_result"
    }
   ],
   "source": [
    "#Define the columns for post transformation dataframe - makes referencing and understanding easier\n",
    "columns = ['source_Direct','source_SEO','source_Ads','browser_Chrome','browser_FireFox','browser_IE','browser_Safari','browser_Opera','sex_M','sex_F'] + numerical_columns\n",
    "columns"
   ]
  },
  {
   "cell_type": "code",
   "execution_count": 24,
   "metadata": {},
   "outputs": [
    {
     "name": "stderr",
     "output_type": "stream",
     "text": [
      "C:\\Users\\USER\\Anaconda3\\lib\\site-packages\\sklearn\\preprocessing\\data.py:625: DataConversionWarning: Data with input dtype int64 were all converted to float64 by StandardScaler.\n",
      "  return self.partial_fit(X, y)\n",
      "C:\\Users\\USER\\Anaconda3\\lib\\site-packages\\sklearn\\base.py:462: DataConversionWarning: Data with input dtype int64 were all converted to float64 by StandardScaler.\n",
      "  return self.fit(X, **fit_params).transform(X)\n",
      "C:\\Users\\USER\\Anaconda3\\lib\\site-packages\\sklearn\\pipeline.py:605: DataConversionWarning: Data with input dtype int64 were all converted to float64 by StandardScaler.\n",
      "  res = transformer.transform(X)\n"
     ]
    },
    {
     "data": {
      "text/plain": [
       "(74691, 14)"
      ]
     },
     "execution_count": 24,
     "metadata": {},
     "output_type": "execute_result"
    }
   ],
   "source": [
    "# 10.0 Transform X dataset\n",
    "X_transAndScaled, _  = transform(categorical_columns, numerical_columns, X)\n",
    "\n",
    "# 10.1\n",
    "X_transAndScaled.shape # (74691, 14)"
   ]
  },
  {
   "cell_type": "markdown",
   "metadata": {},
   "source": [
    "##### Restoring the index and columns names\n",
    "##### Restoring index helps in correctly compute the cost using unscaled purchase_value"
   ]
  },
  {
   "cell_type": "code",
   "execution_count": 25,
   "metadata": {},
   "outputs": [
    {
     "data": {
      "text/html": [
       "<div>\n",
       "<style scoped>\n",
       "    .dataframe tbody tr th:only-of-type {\n",
       "        vertical-align: middle;\n",
       "    }\n",
       "\n",
       "    .dataframe tbody tr th {\n",
       "        vertical-align: top;\n",
       "    }\n",
       "\n",
       "    .dataframe thead th {\n",
       "        text-align: right;\n",
       "    }\n",
       "</style>\n",
       "<table border=\"1\" class=\"dataframe\">\n",
       "  <thead>\n",
       "    <tr style=\"text-align: right;\">\n",
       "      <th></th>\n",
       "      <th>source_Direct</th>\n",
       "      <th>source_SEO</th>\n",
       "      <th>source_Ads</th>\n",
       "      <th>browser_Chrome</th>\n",
       "      <th>browser_FireFox</th>\n",
       "      <th>browser_IE</th>\n",
       "      <th>browser_Safari</th>\n",
       "      <th>browser_Opera</th>\n",
       "      <th>sex_M</th>\n",
       "      <th>sex_F</th>\n",
       "      <th>signup_time-purchase_time</th>\n",
       "      <th>purchase_value</th>\n",
       "      <th>age</th>\n",
       "      <th>N[device_id]</th>\n",
       "    </tr>\n",
       "  </thead>\n",
       "  <tbody>\n",
       "    <tr>\n",
       "      <th>0</th>\n",
       "      <td>0.0</td>\n",
       "      <td>1.0</td>\n",
       "      <td>0.0</td>\n",
       "      <td>1.0</td>\n",
       "      <td>0.0</td>\n",
       "      <td>0.0</td>\n",
       "      <td>0.0</td>\n",
       "      <td>0.0</td>\n",
       "      <td>0.0</td>\n",
       "      <td>1.0</td>\n",
       "      <td>0.009090</td>\n",
       "      <td>-0.320634</td>\n",
       "      <td>1.835765</td>\n",
       "      <td>0.223419</td>\n",
       "    </tr>\n",
       "    <tr>\n",
       "      <th>1</th>\n",
       "      <td>0.0</td>\n",
       "      <td>0.0</td>\n",
       "      <td>1.0</td>\n",
       "      <td>1.0</td>\n",
       "      <td>0.0</td>\n",
       "      <td>0.0</td>\n",
       "      <td>0.0</td>\n",
       "      <td>0.0</td>\n",
       "      <td>0.0</td>\n",
       "      <td>1.0</td>\n",
       "      <td>-1.525820</td>\n",
       "      <td>-0.429593</td>\n",
       "      <td>0.099640</td>\n",
       "      <td>-0.257486</td>\n",
       "    </tr>\n",
       "    <tr>\n",
       "      <th>2</th>\n",
       "      <td>1.0</td>\n",
       "      <td>0.0</td>\n",
       "      <td>0.0</td>\n",
       "      <td>0.0</td>\n",
       "      <td>1.0</td>\n",
       "      <td>0.0</td>\n",
       "      <td>0.0</td>\n",
       "      <td>0.0</td>\n",
       "      <td>0.0</td>\n",
       "      <td>1.0</td>\n",
       "      <td>0.073083</td>\n",
       "      <td>-0.593031</td>\n",
       "      <td>-0.016102</td>\n",
       "      <td>-0.257486</td>\n",
       "    </tr>\n",
       "    <tr>\n",
       "      <th>3</th>\n",
       "      <td>0.0</td>\n",
       "      <td>0.0</td>\n",
       "      <td>1.0</td>\n",
       "      <td>1.0</td>\n",
       "      <td>0.0</td>\n",
       "      <td>0.0</td>\n",
       "      <td>0.0</td>\n",
       "      <td>0.0</td>\n",
       "      <td>1.0</td>\n",
       "      <td>0.0</td>\n",
       "      <td>1.324593</td>\n",
       "      <td>-0.102717</td>\n",
       "      <td>-0.363327</td>\n",
       "      <td>-0.257486</td>\n",
       "    </tr>\n",
       "    <tr>\n",
       "      <th>4</th>\n",
       "      <td>0.0</td>\n",
       "      <td>1.0</td>\n",
       "      <td>0.0</td>\n",
       "      <td>0.0</td>\n",
       "      <td>0.0</td>\n",
       "      <td>1.0</td>\n",
       "      <td>0.0</td>\n",
       "      <td>0.0</td>\n",
       "      <td>0.0</td>\n",
       "      <td>1.0</td>\n",
       "      <td>-0.168781</td>\n",
       "      <td>0.333118</td>\n",
       "      <td>0.794090</td>\n",
       "      <td>-0.257486</td>\n",
       "    </tr>\n",
       "  </tbody>\n",
       "</table>\n",
       "</div>"
      ],
      "text/plain": [
       "   source_Direct  source_SEO  source_Ads  browser_Chrome  browser_FireFox  \\\n",
       "0            0.0         1.0         0.0             1.0              0.0   \n",
       "1            0.0         0.0         1.0             1.0              0.0   \n",
       "2            1.0         0.0         0.0             0.0              1.0   \n",
       "3            0.0         0.0         1.0             1.0              0.0   \n",
       "4            0.0         1.0         0.0             0.0              0.0   \n",
       "\n",
       "   browser_IE  browser_Safari  browser_Opera  sex_M  sex_F  \\\n",
       "0         0.0             0.0            0.0    0.0    1.0   \n",
       "1         0.0             0.0            0.0    0.0    1.0   \n",
       "2         0.0             0.0            0.0    0.0    1.0   \n",
       "3         0.0             0.0            0.0    1.0    0.0   \n",
       "4         1.0             0.0            0.0    0.0    1.0   \n",
       "\n",
       "   signup_time-purchase_time  purchase_value       age  N[device_id]  \n",
       "0                   0.009090       -0.320634  1.835765      0.223419  \n",
       "1                  -1.525820       -0.429593  0.099640     -0.257486  \n",
       "2                   0.073083       -0.593031 -0.016102     -0.257486  \n",
       "3                   1.324593       -0.102717 -0.363327     -0.257486  \n",
       "4                  -0.168781        0.333118  0.794090     -0.257486  "
      ]
     },
     "execution_count": 25,
     "metadata": {},
     "output_type": "execute_result"
    }
   ],
   "source": [
    "X_transAndScaled = pd.DataFrame(X_transAndScaled, index=X.index, columns=columns)\n",
    "X_transAndScaled.head()"
   ]
  },
  {
   "cell_type": "code",
   "execution_count": 26,
   "metadata": {},
   "outputs": [
    {
     "name": "stderr",
     "output_type": "stream",
     "text": [
      "C:\\Users\\USER\\Anaconda3\\lib\\site-packages\\sklearn\\preprocessing\\data.py:625: DataConversionWarning: Data with input dtype int64 were all converted to float64 by StandardScaler.\n",
      "  return self.partial_fit(X, y)\n",
      "C:\\Users\\USER\\Anaconda3\\lib\\site-packages\\sklearn\\base.py:462: DataConversionWarning: Data with input dtype int64 were all converted to float64 by StandardScaler.\n",
      "  return self.fit(X, **fit_params).transform(X)\n",
      "C:\\Users\\USER\\Anaconda3\\lib\\site-packages\\sklearn\\pipeline.py:605: DataConversionWarning: Data with input dtype int64 were all converted to float64 by StandardScaler.\n",
      "  res = transformer.transform(X)\n"
     ]
    },
    {
     "data": {
      "text/plain": [
       "(13413, 14)"
      ]
     },
     "execution_count": 26,
     "metadata": {},
     "output_type": "execute_result"
    }
   ],
   "source": [
    "# 11.0 Transform X_val dataset\n",
    "Xval_transAndScaled, _  = transform(categorical_columns, numerical_columns, X_val)\n",
    "\n",
    "# 10.1\n",
    "Xval_transAndScaled.shape           # (13413, 14)"
   ]
  },
  {
   "cell_type": "code",
   "execution_count": 27,
   "metadata": {},
   "outputs": [
    {
     "data": {
      "text/html": [
       "<div>\n",
       "<style scoped>\n",
       "    .dataframe tbody tr th:only-of-type {\n",
       "        vertical-align: middle;\n",
       "    }\n",
       "\n",
       "    .dataframe tbody tr th {\n",
       "        vertical-align: top;\n",
       "    }\n",
       "\n",
       "    .dataframe thead th {\n",
       "        text-align: right;\n",
       "    }\n",
       "</style>\n",
       "<table border=\"1\" class=\"dataframe\">\n",
       "  <thead>\n",
       "    <tr style=\"text-align: right;\">\n",
       "      <th></th>\n",
       "      <th>source_Direct</th>\n",
       "      <th>source_SEO</th>\n",
       "      <th>source_Ads</th>\n",
       "      <th>browser_Chrome</th>\n",
       "      <th>browser_FireFox</th>\n",
       "      <th>browser_IE</th>\n",
       "      <th>browser_Safari</th>\n",
       "      <th>browser_Opera</th>\n",
       "      <th>sex_M</th>\n",
       "      <th>sex_F</th>\n",
       "      <th>signup_time-purchase_time</th>\n",
       "      <th>purchase_value</th>\n",
       "      <th>age</th>\n",
       "      <th>N[device_id]</th>\n",
       "    </tr>\n",
       "  </thead>\n",
       "  <tbody>\n",
       "    <tr>\n",
       "      <th>0</th>\n",
       "      <td>0.0</td>\n",
       "      <td>1.0</td>\n",
       "      <td>0.0</td>\n",
       "      <td>0.0</td>\n",
       "      <td>0.0</td>\n",
       "      <td>1.0</td>\n",
       "      <td>0.0</td>\n",
       "      <td>0.0</td>\n",
       "      <td>0.0</td>\n",
       "      <td>1.0</td>\n",
       "      <td>-0.883410</td>\n",
       "      <td>-1.143551</td>\n",
       "      <td>-0.835293</td>\n",
       "      <td>-0.258280</td>\n",
       "    </tr>\n",
       "    <tr>\n",
       "      <th>1</th>\n",
       "      <td>1.0</td>\n",
       "      <td>0.0</td>\n",
       "      <td>0.0</td>\n",
       "      <td>0.0</td>\n",
       "      <td>0.0</td>\n",
       "      <td>0.0</td>\n",
       "      <td>0.0</td>\n",
       "      <td>1.0</td>\n",
       "      <td>0.0</td>\n",
       "      <td>1.0</td>\n",
       "      <td>0.873579</td>\n",
       "      <td>0.176463</td>\n",
       "      <td>-0.015378</td>\n",
       "      <td>-0.258280</td>\n",
       "    </tr>\n",
       "    <tr>\n",
       "      <th>2</th>\n",
       "      <td>0.0</td>\n",
       "      <td>0.0</td>\n",
       "      <td>1.0</td>\n",
       "      <td>1.0</td>\n",
       "      <td>0.0</td>\n",
       "      <td>0.0</td>\n",
       "      <td>0.0</td>\n",
       "      <td>0.0</td>\n",
       "      <td>1.0</td>\n",
       "      <td>0.0</td>\n",
       "      <td>0.369936</td>\n",
       "      <td>2.321485</td>\n",
       "      <td>-0.718163</td>\n",
       "      <td>0.214921</td>\n",
       "    </tr>\n",
       "    <tr>\n",
       "      <th>3</th>\n",
       "      <td>0.0</td>\n",
       "      <td>0.0</td>\n",
       "      <td>1.0</td>\n",
       "      <td>0.0</td>\n",
       "      <td>1.0</td>\n",
       "      <td>0.0</td>\n",
       "      <td>0.0</td>\n",
       "      <td>0.0</td>\n",
       "      <td>0.0</td>\n",
       "      <td>1.0</td>\n",
       "      <td>0.169777</td>\n",
       "      <td>0.176463</td>\n",
       "      <td>-1.538078</td>\n",
       "      <td>-0.258280</td>\n",
       "    </tr>\n",
       "    <tr>\n",
       "      <th>4</th>\n",
       "      <td>0.0</td>\n",
       "      <td>0.0</td>\n",
       "      <td>1.0</td>\n",
       "      <td>0.0</td>\n",
       "      <td>0.0</td>\n",
       "      <td>1.0</td>\n",
       "      <td>0.0</td>\n",
       "      <td>0.0</td>\n",
       "      <td>0.0</td>\n",
       "      <td>1.0</td>\n",
       "      <td>0.285259</td>\n",
       "      <td>0.341464</td>\n",
       "      <td>0.804537</td>\n",
       "      <td>-0.258280</td>\n",
       "    </tr>\n",
       "  </tbody>\n",
       "</table>\n",
       "</div>"
      ],
      "text/plain": [
       "   source_Direct  source_SEO  source_Ads  browser_Chrome  browser_FireFox  \\\n",
       "0            0.0         1.0         0.0             0.0              0.0   \n",
       "1            1.0         0.0         0.0             0.0              0.0   \n",
       "2            0.0         0.0         1.0             1.0              0.0   \n",
       "3            0.0         0.0         1.0             0.0              1.0   \n",
       "4            0.0         0.0         1.0             0.0              0.0   \n",
       "\n",
       "   browser_IE  browser_Safari  browser_Opera  sex_M  sex_F  \\\n",
       "0         1.0             0.0            0.0    0.0    1.0   \n",
       "1         0.0             0.0            1.0    0.0    1.0   \n",
       "2         0.0             0.0            0.0    1.0    0.0   \n",
       "3         0.0             0.0            0.0    0.0    1.0   \n",
       "4         1.0             0.0            0.0    0.0    1.0   \n",
       "\n",
       "   signup_time-purchase_time  purchase_value       age  N[device_id]  \n",
       "0                  -0.883410       -1.143551 -0.835293     -0.258280  \n",
       "1                   0.873579        0.176463 -0.015378     -0.258280  \n",
       "2                   0.369936        2.321485 -0.718163      0.214921  \n",
       "3                   0.169777        0.176463 -1.538078     -0.258280  \n",
       "4                   0.285259        0.341464  0.804537     -0.258280  "
      ]
     },
     "execution_count": 27,
     "metadata": {},
     "output_type": "execute_result"
    }
   ],
   "source": [
    "#Provide the column names for additional dummy variables\n",
    "Xval_transAndScaled = pd.DataFrame(Xval_transAndScaled, index=X_val.index, columns=columns)\n",
    "Xval_transAndScaled.head()"
   ]
  },
  {
   "cell_type": "code",
   "execution_count": 28,
   "metadata": {},
   "outputs": [],
   "source": [
    "# 12. Split data into train/test\n",
    "#     train-test split. save the indices of split set\n",
    "X_train,X_test, y_train, y_test ,indicies_tr,indicies_test = train_test_split(\n",
    "                                                                      X_transAndScaled,    # Predictors\n",
    "                                                                      y,                # Target\n",
    "                                                                      np.arange(X_transAndScaled.shape[0]),\n",
    "                                                                      test_size = 0.3,   # split-ratio\n",
    "                                                                      random_state=1\n",
    "                                                                     )"
   ]
  },
  {
   "cell_type": "code",
   "execution_count": 29,
   "metadata": {},
   "outputs": [
    {
     "data": {
      "text/plain": [
       "(52283, 14)"
      ]
     },
     "execution_count": 29,
     "metadata": {},
     "output_type": "execute_result"
    }
   ],
   "source": [
    "X_train.shape"
   ]
  },
  {
   "cell_type": "code",
   "execution_count": 30,
   "metadata": {},
   "outputs": [
    {
     "data": {
      "text/plain": [
       "85       59\n",
       "4978     32\n",
       "68017    44\n",
       "42773    17\n",
       "73790    46\n",
       "Name: purchase_value, dtype: int64"
      ]
     },
     "execution_count": 30,
     "metadata": {},
     "output_type": "execute_result"
    }
   ],
   "source": [
    "#Generate the image of test dataset pre-split using indicies_test.\n",
    "#This will be used to capture the unscaled values of purchase_value for computing cost of model\n",
    "X_cost = X.iloc[indicies_test]\n",
    "X_cost.purchase_value.head()"
   ]
  },
  {
   "cell_type": "code",
   "execution_count": 31,
   "metadata": {},
   "outputs": [
    {
     "data": {
      "text/plain": [
       "150"
      ]
     },
     "execution_count": 31,
     "metadata": {},
     "output_type": "execute_result"
    }
   ],
   "source": [
    "#Using Garbage Collect to clear memory\n",
    "del X_transAndScaled\n",
    "del indicies_tr\n",
    "del indicies_test\n",
    "gc.collect()"
   ]
  },
  {
   "cell_type": "code",
   "execution_count": 32,
   "metadata": {},
   "outputs": [
    {
     "data": {
      "text/plain": [
       "pandas.core.series.Series"
      ]
     },
     "execution_count": 32,
     "metadata": {},
     "output_type": "execute_result"
    }
   ],
   "source": [
    "type(y_train)\n",
    "#y_train.info()"
   ]
  },
  {
   "cell_type": "markdown",
   "metadata": {},
   "source": [
    "#### Data Processing with SMOTE"
   ]
  },
  {
   "cell_type": "code",
   "execution_count": 33,
   "metadata": {},
   "outputs": [
    {
     "data": {
      "text/plain": [
       "0.09299389859036399"
      ]
     },
     "execution_count": 33,
     "metadata": {},
     "output_type": "execute_result"
    }
   ],
   "source": [
    "#12.0 Checking the extent of 'class' imbalance\n",
    "np.sum(y_train)/len(y_train)       # 0.09431363923263776"
   ]
  },
  {
   "cell_type": "code",
   "execution_count": 34,
   "metadata": {},
   "outputs": [
    {
     "data": {
      "text/plain": [
       "numpy.ndarray"
      ]
     },
     "execution_count": 34,
     "metadata": {},
     "output_type": "execute_result"
    }
   ],
   "source": [
    "# 12.1  Process X_train data with SMOTE\n",
    "sm = SMOTE(random_state=42)\n",
    "X_res, y_res = sm.fit_sample(X_train, y_train)\n",
    "type(X_res)       # No longer pandas dataframe\n",
    "                  #  but we will convert to pandas dataframe\n",
    "\n"
   ]
  },
  {
   "cell_type": "code",
   "execution_count": 35,
   "metadata": {},
   "outputs": [
    {
     "data": {
      "text/plain": [
       "(94842, 14)"
      ]
     },
     "execution_count": 35,
     "metadata": {},
     "output_type": "execute_result"
    }
   ],
   "source": [
    "# 12.2 Check\n",
    "X_res.shape                    # (94756, 14)"
   ]
  },
  {
   "cell_type": "code",
   "execution_count": 36,
   "metadata": {},
   "outputs": [
    {
     "name": "stdout",
     "output_type": "stream",
     "text": [
      "<class 'pandas.core.frame.DataFrame'>\n",
      "RangeIndex: 94842 entries, 0 to 94841\n",
      "Data columns (total 2 columns):\n",
      "0    94842 non-null uint8\n",
      "1    94842 non-null uint8\n",
      "dtypes: uint8(2)\n",
      "memory usage: 185.3 KB\n"
     ]
    }
   ],
   "source": [
    "#Using y_res for most of the classifiers\n",
    "#Using y_onehot for NeuralNetworks\n",
    "y_onehot = pd.get_dummies(y_res)\n",
    "y_onehot.info()"
   ]
  },
  {
   "cell_type": "code",
   "execution_count": 37,
   "metadata": {},
   "outputs": [
    {
     "data": {
      "text/plain": [
       "0.5"
      ]
     },
     "execution_count": 37,
     "metadata": {},
     "output_type": "execute_result"
    }
   ],
   "source": [
    "np.sum(y_res)/len(y_res)       # 0.5 ,earlier ratio was 0.09381634565728822"
   ]
  },
  {
   "cell_type": "code",
   "execution_count": 38,
   "metadata": {},
   "outputs": [
    {
     "data": {
      "text/plain": [
       "pandas.core.frame.DataFrame"
      ]
     },
     "execution_count": 38,
     "metadata": {},
     "output_type": "execute_result"
    }
   ],
   "source": [
    "#y_res = y_res.reshape(len(y_res),1)\n",
    "y_res = pd.DataFrame(y_res)\n",
    "type(y_res)"
   ]
  },
  {
   "cell_type": "code",
   "execution_count": 39,
   "metadata": {},
   "outputs": [
    {
     "data": {
      "text/plain": [
       "pandas.core.frame.DataFrame"
      ]
     },
     "execution_count": 39,
     "metadata": {},
     "output_type": "execute_result"
    }
   ],
   "source": [
    "X_res = pd.DataFrame(X_res,columns=columns)\n",
    "type(X_res)"
   ]
  },
  {
   "cell_type": "markdown",
   "metadata": {},
   "source": [
    "### Ready for Modeling\n",
    "##### X_res, y_res (or y_onehot)\n",
    "### For testing model accuracy\n",
    "##### X_test, y_test\n",
    "### For model validation\n",
    "##### Xval_transAndScaled \n",
    "##### y_prediction.to_csv(\"submissionFirstNameLastName.csv\")\n",
    "### For model selection need the costing function:\n",
    "##### calculate the cost of wrong response: $8*wrongFraudulent + purchase value of allFraudsMissed"
   ]
  },
  {
   "cell_type": "code",
   "execution_count": 40,
   "metadata": {},
   "outputs": [],
   "source": [
    "def modelCost(test_y,model_y,df):\n",
    "    #falsePositive: Cost is $8*count\n",
    "    #non-fraudulent transactions (test_y '0') predicted as fraudulent by model (model_y '1')\n",
    "    falsePositiveCost = df.purchase_value[(test_y==0) & (model_y==1)].count()*8\n",
    "    print(\"falsePositive {:.0f}\".format(df.purchase_value[(test_y==0) & (model_y==1)].count()))\n",
    "    print(\"falsePositiveCost ${:.0f}\".format(falsePositiveCost))\n",
    "    #falseNegative: Cost is sum of purchase_value\n",
    "    #fraudulent transactions (test_y '1') predicted as non-fraudulent by model (model_y '0')\n",
    "    falseNegativeCost = df.purchase_value[(test_y==1) & (model_y==0)].sum()\n",
    "    print(\"falseNegative {:.0f}\".format(df.purchase_value[(test_y==1) & (model_y==0)].count()))\n",
    "    print(\"falseNegativeCost ${:.0f}\".format(falseNegativeCost))\n",
    "    totalCost = falsePositiveCost + falseNegativeCost\n",
    "    print(\"totalCost ${:.0f}\".format(totalCost))\n",
    "    return totalCost\n"
   ]
  },
  {
   "cell_type": "markdown",
   "metadata": {},
   "source": [
    "# Check-0: All y's predicted as 0 (i.e. non-fraudulent transactions)"
   ]
  },
  {
   "cell_type": "code",
   "execution_count": 41,
   "metadata": {},
   "outputs": [
    {
     "name": "stdout",
     "output_type": "stream",
     "text": [
      "falsePositive 0\n",
      "falsePositiveCost $0\n",
      "falseNegative 2145\n",
      "falseNegativeCost $79288\n",
      "totalCost $79288\n"
     ]
    }
   ],
   "source": [
    "y0s=np.zeros(y_test.size)\n",
    "totalCost_0s = modelCost(y_test, y0s, X_cost)"
   ]
  },
  {
   "cell_type": "markdown",
   "metadata": {},
   "source": [
    "##### Customer loses $76393 from fraudulent transactions incorrectly classified as non-fraudulent"
   ]
  },
  {
   "cell_type": "markdown",
   "metadata": {},
   "source": [
    "# Check-1: All y's predicted as 1 (i.e. fraudulent transactions)"
   ]
  },
  {
   "cell_type": "code",
   "execution_count": 42,
   "metadata": {},
   "outputs": [
    {
     "name": "stdout",
     "output_type": "stream",
     "text": [
      "falsePositive 20263\n",
      "falsePositiveCost $162104\n",
      "falseNegative 0\n",
      "falseNegativeCost $0\n",
      "totalCost $162104\n"
     ]
    }
   ],
   "source": [
    "y1s=np.ones(y_test.size)\n",
    "totalCost_1s = modelCost(y_test, y1s, X_cost)"
   ]
  },
  {
   "cell_type": "markdown",
   "metadata": {},
   "source": [
    "##### Customer loses \\$162104 as now all non-fraudulent transactions are incorrectly classified as fraudulent\n",
    "##### So our models should predict costs that are better than \\$79288 for the model to be of some value"
   ]
  },
  {
   "cell_type": "markdown",
   "metadata": {},
   "source": [
    "# Model-1: LogisticRegression"
   ]
  },
  {
   "cell_type": "code",
   "execution_count": 43,
   "metadata": {},
   "outputs": [
    {
     "name": "stderr",
     "output_type": "stream",
     "text": [
      "C:\\Users\\USER\\Anaconda3\\lib\\site-packages\\sklearn\\linear_model\\logistic.py:433: FutureWarning: Default solver will be changed to 'lbfgs' in 0.22. Specify a solver to silence this warning.\n",
      "  FutureWarning)\n",
      "C:\\Users\\USER\\Anaconda3\\lib\\site-packages\\sklearn\\utils\\validation.py:761: DataConversionWarning: A column-vector y was passed when a 1d array was expected. Please change the shape of y to (n_samples, ), for example using ravel().\n",
      "  y = column_or_1d(y, warn=True)\n"
     ]
    },
    {
     "data": {
      "text/plain": [
       "0.5911209583282471"
      ]
     },
     "execution_count": 43,
     "metadata": {},
     "output_type": "execute_result"
    }
   ],
   "source": [
    "#Running basic regression first to setup all checking and evaluation functions\n",
    "log_reg = LogisticRegression(random_state=42)\n",
    "start = time.time()\n",
    "log_reg.fit(X_res, y_res)\n",
    "end = time.time()\n",
    "(end - start) #0.31 seconds"
   ]
  },
  {
   "cell_type": "code",
   "execution_count": 44,
   "metadata": {},
   "outputs": [
    {
     "data": {
      "text/plain": [
       "0.9186004998214923"
      ]
     },
     "execution_count": 44,
     "metadata": {},
     "output_type": "execute_result"
    }
   ],
   "source": [
    "y_logreg = log_reg.predict(X_test)\n",
    "log_reg.score(X_test, y_test) #0.920653338093538 Not bad for a start!"
   ]
  },
  {
   "cell_type": "code",
   "execution_count": 45,
   "metadata": {},
   "outputs": [
    {
     "name": "stdout",
     "output_type": "stream",
     "text": [
      "falsePositive 1125\n",
      "falsePositiveCost $9000\n",
      "falseNegative 699\n",
      "falseNegativeCost $25957\n",
      "totalCost $34957\n"
     ]
    },
    {
     "data": {
      "text/plain": [
       "34957"
      ]
     },
     "execution_count": 45,
     "metadata": {},
     "output_type": "execute_result"
    }
   ],
   "source": [
    "totalCost_logreg = modelCost(y_test, y_logreg, X_cost)\n",
    "totalCost_logreg # $35238"
   ]
  },
  {
   "cell_type": "markdown",
   "metadata": {},
   "source": [
    "# Model-2: LogisticRegression With L1 Penalty"
   ]
  },
  {
   "cell_type": "code",
   "execution_count": 46,
   "metadata": {},
   "outputs": [
    {
     "name": "stderr",
     "output_type": "stream",
     "text": [
      "C:\\Users\\USER\\Anaconda3\\lib\\site-packages\\sklearn\\linear_model\\logistic.py:433: FutureWarning: Default solver will be changed to 'lbfgs' in 0.22. Specify a solver to silence this warning.\n",
      "  FutureWarning)\n",
      "C:\\Users\\USER\\Anaconda3\\lib\\site-packages\\sklearn\\utils\\validation.py:761: DataConversionWarning: A column-vector y was passed when a 1d array was expected. Please change the shape of y to (n_samples, ), for example using ravel().\n",
      "  y = column_or_1d(y, warn=True)\n"
     ]
    },
    {
     "name": "stdout",
     "output_type": "stream",
     "text": [
      "LOGISTIC REGRESSION - L1 penalty took 1.82s\n"
     ]
    }
   ],
   "source": [
    "########## Logistic Regression With L1 Penalty ##########\n",
    "# logistic regression with L1 penalty\n",
    "start = time.time()\n",
    "logreg_l1 = LogisticRegression(C=0.1, penalty='l1')\n",
    "logreg_l1.fit(X_res, y_res)\n",
    "end = time.time()\n",
    "print(\"LOGISTIC REGRESSION - L1 penalty took {:.2f}s\".format(end - start)) #0.57s"
   ]
  },
  {
   "cell_type": "code",
   "execution_count": 47,
   "metadata": {},
   "outputs": [
    {
     "data": {
      "text/plain": [
       "0.9183773652267048"
      ]
     },
     "execution_count": 47,
     "metadata": {},
     "output_type": "execute_result"
    }
   ],
   "source": [
    "logreg_l1.coef_\n",
    "y_logregl1 = logreg_l1.predict(X_test)\n",
    "logreg_l1.score(X_test, y_test) #0.9206087111745805 not much improvement"
   ]
  },
  {
   "cell_type": "code",
   "execution_count": 48,
   "metadata": {},
   "outputs": [
    {
     "name": "stdout",
     "output_type": "stream",
     "text": [
      "falsePositive 1131\n",
      "falsePositiveCost $9048\n",
      "falseNegative 698\n",
      "falseNegativeCost $25946\n",
      "totalCost $34994\n"
     ]
    },
    {
     "data": {
      "text/plain": [
       "34994"
      ]
     },
     "execution_count": 48,
     "metadata": {},
     "output_type": "execute_result"
    }
   ],
   "source": [
    "totalCost_logregl1 = modelCost(y_test, y_logregl1, X_cost)\n",
    "totalCost_logregl1 # $35262 -- Cost degrades!"
   ]
  },
  {
   "cell_type": "markdown",
   "metadata": {},
   "source": [
    "# Model-3: LogisticRegression With L2 Penalty"
   ]
  },
  {
   "cell_type": "code",
   "execution_count": 49,
   "metadata": {},
   "outputs": [
    {
     "name": "stderr",
     "output_type": "stream",
     "text": [
      "C:\\Users\\USER\\Anaconda3\\lib\\site-packages\\sklearn\\linear_model\\logistic.py:433: FutureWarning: Default solver will be changed to 'lbfgs' in 0.22. Specify a solver to silence this warning.\n",
      "  FutureWarning)\n",
      "C:\\Users\\USER\\Anaconda3\\lib\\site-packages\\sklearn\\utils\\validation.py:761: DataConversionWarning: A column-vector y was passed when a 1d array was expected. Please change the shape of y to (n_samples, ), for example using ravel().\n",
      "  y = column_or_1d(y, warn=True)\n"
     ]
    },
    {
     "name": "stdout",
     "output_type": "stream",
     "text": [
      "LOGISTIC REGRESSION - L2 penalty took 0.55s\n"
     ]
    }
   ],
   "source": [
    "########## Logistic Regression With L2 Penalty ##########\n",
    "# logistic regression with L2 penalty\n",
    "start = time.time()\n",
    "logreg_l2 = LogisticRegression(C=0.1, penalty='l2')\n",
    "logreg_l2.fit(X_res, y_res)\n",
    "end = time.time()\n",
    "print(\"LOGISTIC REGRESSION - L2 penalty took {:.2f}s\".format(end - start)) #0.46s"
   ]
  },
  {
   "cell_type": "code",
   "execution_count": 50,
   "metadata": {},
   "outputs": [
    {
     "data": {
      "text/plain": [
       "0.9186004998214923"
      ]
     },
     "execution_count": 50,
     "metadata": {},
     "output_type": "execute_result"
    }
   ],
   "source": [
    "logreg_l2.coef_\n",
    "y_logregl2 = logreg_l2.predict(X_test)\n",
    "logreg_l2.score(X_test, y_test) #0.920653338093538 not much improvement"
   ]
  },
  {
   "cell_type": "code",
   "execution_count": 51,
   "metadata": {},
   "outputs": [
    {
     "name": "stdout",
     "output_type": "stream",
     "text": [
      "falsePositive 1124\n",
      "falsePositiveCost $8992\n",
      "falseNegative 700\n",
      "falseNegativeCost $26007\n",
      "totalCost $34999\n"
     ]
    },
    {
     "data": {
      "text/plain": [
       "34999"
      ]
     },
     "execution_count": 51,
     "metadata": {},
     "output_type": "execute_result"
    }
   ],
   "source": [
    "totalCost_logregl2 = modelCost(y_test, y_logregl2, X_cost)\n",
    "totalCost_logregl2 # $35291 -- Cost degrades significantly!"
   ]
  },
  {
   "cell_type": "markdown",
   "metadata": {},
   "source": [
    "# Model-4: DecisionTreeClassifier"
   ]
  },
  {
   "cell_type": "code",
   "execution_count": 52,
   "metadata": {},
   "outputs": [
    {
     "name": "stdout",
     "output_type": "stream",
     "text": [
      "DecisionTreeClassifier took 0.25s\n"
     ]
    }
   ],
   "source": [
    "########## DecisionTreeClassifier ##########\n",
    "#from sklearn.tree import DecisionTreeClassifier\n",
    "start = time.time()\n",
    "treeclf = DecisionTreeClassifier(max_depth=3, random_state=1)\n",
    "treeclf.fit(X_res, y_res)\n",
    "end = time.time()\n",
    "print(\"DecisionTreeClassifier took {:.2f}s\".format(end - start)) #0.27s"
   ]
  },
  {
   "cell_type": "code",
   "execution_count": 53,
   "metadata": {},
   "outputs": [
    {
     "data": {
      "text/plain": [
       "0.9181096037129597"
      ]
     },
     "execution_count": 53,
     "metadata": {},
     "output_type": "execute_result"
    }
   ],
   "source": [
    "y_treeclf = treeclf.predict(X_test)\n",
    "treeclf.score(X_test, y_test) #0.9201178150660478"
   ]
  },
  {
   "cell_type": "code",
   "execution_count": 54,
   "metadata": {},
   "outputs": [
    {
     "name": "stdout",
     "output_type": "stream",
     "text": [
      "falsePositive 1140\n",
      "falsePositiveCost $9120\n",
      "falseNegative 695\n",
      "falseNegativeCost $25831\n",
      "totalCost $34951\n"
     ]
    },
    {
     "data": {
      "text/plain": [
       "34951"
      ]
     },
     "execution_count": 54,
     "metadata": {},
     "output_type": "execute_result"
    }
   ],
   "source": [
    "totalCost_treeclf = modelCost(y_test, y_treeclf, X_cost)\n",
    "totalCost_treeclf # $34890 -- Cost improves slightly from $35238 for logisticRegression!"
   ]
  },
  {
   "cell_type": "markdown",
   "metadata": {},
   "source": [
    "# Model-5: RandomForestClassifier"
   ]
  },
  {
   "cell_type": "code",
   "execution_count": 55,
   "metadata": {},
   "outputs": [
    {
     "name": "stderr",
     "output_type": "stream",
     "text": [
      "C:\\Users\\USER\\Anaconda3\\lib\\site-packages\\ipykernel_launcher.py:6: DataConversionWarning: A column-vector y was passed when a 1d array was expected. Please change the shape of y to (n_samples,), for example using ravel().\n",
      "  \n"
     ]
    },
    {
     "name": "stdout",
     "output_type": "stream",
     "text": [
      "DecisionTreeClassifier took 52.98s\n"
     ]
    }
   ],
   "source": [
    "########## RandomForestClassifier ##########\n",
    "#from sklearn.ensemble import RandomForestClassifier\n",
    "start = time.time()\n",
    "#rfclf = RandomForestClassifier(n_estimators=200, max_features=5, oob_score=True, random_state=1)\n",
    "rfclf = RandomForestClassifier(n_estimators=200, max_features=5, random_state=1)\n",
    "rfclf.fit(X_res, y_res)\n",
    "end = time.time()\n",
    "print(\"DecisionTreeClassifier took {:.2f}s\".format(end - start)) #44.71s"
   ]
  },
  {
   "cell_type": "code",
   "execution_count": 56,
   "metadata": {},
   "outputs": [
    {
     "data": {
      "text/plain": [
       "0.9358711174580507"
      ]
     },
     "execution_count": 56,
     "metadata": {},
     "output_type": "execute_result"
    }
   ],
   "source": [
    "y_rfclf = rfclf.predict(X_test)\n",
    "rfclf.score(X_test, y_test) #0.9364512674044984"
   ]
  },
  {
   "cell_type": "code",
   "execution_count": 57,
   "metadata": {},
   "outputs": [
    {
     "name": "stdout",
     "output_type": "stream",
     "text": [
      "falsePositive 497\n",
      "falsePositiveCost $3976\n",
      "falseNegative 940\n",
      "falseNegativeCost $35374\n",
      "totalCost $39350\n"
     ]
    },
    {
     "data": {
      "text/plain": [
       "39350"
      ]
     },
     "execution_count": 57,
     "metadata": {},
     "output_type": "execute_result"
    }
   ],
   "source": [
    "totalCost_rfclf = modelCost(y_test, y_rfclf, X_cost)\n",
    "totalCost_rfclf # $38259 -- Cost degrades majorly from $34890 for DecisionTreeClassifier!"
   ]
  },
  {
   "cell_type": "markdown",
   "metadata": {},
   "source": [
    "# Model-6: 2-layer NeuralNetwork"
   ]
  },
  {
   "cell_type": "code",
   "execution_count": 58,
   "metadata": {},
   "outputs": [
    {
     "name": "stdout",
     "output_type": "stream",
     "text": [
      "<class 'pandas.core.frame.DataFrame'>\n",
      "RangeIndex: 94842 entries, 0 to 94841\n",
      "Data columns (total 14 columns):\n",
      "source_Direct                94842 non-null float64\n",
      "source_SEO                   94842 non-null float64\n",
      "source_Ads                   94842 non-null float64\n",
      "browser_Chrome               94842 non-null float64\n",
      "browser_FireFox              94842 non-null float64\n",
      "browser_IE                   94842 non-null float64\n",
      "browser_Safari               94842 non-null float64\n",
      "browser_Opera                94842 non-null float64\n",
      "sex_M                        94842 non-null float64\n",
      "sex_F                        94842 non-null float64\n",
      "signup_time-purchase_time    94842 non-null float64\n",
      "purchase_value               94842 non-null float64\n",
      "age                          94842 non-null float64\n",
      "N[device_id]                 94842 non-null float64\n",
      "dtypes: float64(14)\n",
      "memory usage: 10.1 MB\n"
     ]
    }
   ],
   "source": [
    "X_res.info()"
   ]
  },
  {
   "cell_type": "code",
   "execution_count": 59,
   "metadata": {},
   "outputs": [
    {
     "name": "stdout",
     "output_type": "stream",
     "text": [
      "<class 'pandas.core.frame.DataFrame'>\n",
      "RangeIndex: 94842 entries, 0 to 94841\n",
      "Data columns (total 2 columns):\n",
      "0    94842 non-null uint8\n",
      "1    94842 non-null uint8\n",
      "dtypes: uint8(2)\n",
      "memory usage: 185.3 KB\n"
     ]
    }
   ],
   "source": [
    "y_onehot.info()"
   ]
  },
  {
   "cell_type": "code",
   "execution_count": 60,
   "metadata": {},
   "outputs": [
    {
     "name": "stdout",
     "output_type": "stream",
     "text": [
      "WARNING:tensorflow:From C:\\Users\\USER\\Anaconda3\\lib\\site-packages\\tensorflow\\python\\framework\\op_def_library.py:263: colocate_with (from tensorflow.python.framework.ops) is deprecated and will be removed in a future version.\n",
      "Instructions for updating:\n",
      "Colocations handled automatically by placer.\n"
     ]
    },
    {
     "name": "stderr",
     "output_type": "stream",
     "text": [
      "C:\\Users\\USER\\Anaconda3\\lib\\site-packages\\ipykernel_launcher.py:3: UserWarning: Update your `Dense` call to the Keras 2 API: `Dense(input_dim=14, units=100)`\n",
      "  This is separate from the ipykernel package so we can avoid doing imports until\n",
      "C:\\Users\\USER\\Anaconda3\\lib\\site-packages\\ipykernel_launcher.py:4: UserWarning: Update your `Dense` call to the Keras 2 API: `Dense(units=2)`\n",
      "  after removing the cwd from sys.path.\n"
     ]
    },
    {
     "name": "stdout",
     "output_type": "stream",
     "text": [
      "WARNING:tensorflow:From C:\\Users\\USER\\Anaconda3\\lib\\site-packages\\tensorflow\\python\\ops\\math_ops.py:3066: to_int32 (from tensorflow.python.ops.math_ops) is deprecated and will be removed in a future version.\n",
      "Instructions for updating:\n",
      "Use tf.cast instead.\n",
      "Epoch 1/1\n",
      "94842/94842 [==============================] - 6s 63us/step - loss: 0.4486 - acc: 0.7788\n",
      "2layer NeuralNetwork took 6.66s\n"
     ]
    }
   ],
   "source": [
    "start = time.time()\n",
    "NN_2l = Sequential()\n",
    "NN_2l.add(Dense(input_dim=14, output_dim=100))\n",
    "NN_2l.add(Dense(output_dim=2))\n",
    "NN_2l.add(Activation(\"softmax\"))\n",
    "\n",
    "NN_2l.compile(loss='categorical_crossentropy', optimizer='sgd', metrics=['accuracy'])\n",
    "\n",
    "NN_2l.fit(X_res, y_onehot)\n",
    "\n",
    "end = time.time()\n",
    "print(\"2layer NeuralNetwork took {:.2f}s\".format(end - start)) #6.9s\n"
   ]
  },
  {
   "cell_type": "code",
   "execution_count": 61,
   "metadata": {},
   "outputs": [
    {
     "name": "stdout",
     "output_type": "stream",
     "text": [
      "\n",
      "\n",
      "accuracy 0.9197161727954302\n"
     ]
    }
   ],
   "source": [
    "y_NN2l = NN_2l.predict_classes(X_test)\n",
    "print(\"\\n\\naccuracy\", np.sum(y_NN2l == y_test) / float(len(y_test)))"
   ]
  },
  {
   "cell_type": "code",
   "execution_count": 62,
   "metadata": {},
   "outputs": [
    {
     "name": "stdout",
     "output_type": "stream",
     "text": [
      "falsePositive 1087\n",
      "falsePositiveCost $8696\n",
      "falseNegative 712\n",
      "falseNegativeCost $26584\n",
      "totalCost $35280\n"
     ]
    },
    {
     "data": {
      "text/plain": [
       "35280"
      ]
     },
     "execution_count": 62,
     "metadata": {},
     "output_type": "execute_result"
    }
   ],
   "source": [
    "totalCost_NN2l = modelCost(y_test, y_NN2l, X_cost)\n",
    "totalCost_NN2l # $33575 -- Cost improvement from $34890 for DecisionTreeClassifier!"
   ]
  },
  {
   "cell_type": "markdown",
   "metadata": {},
   "source": [
    "# Conclusion: "
   ]
  },
  {
   "cell_type": "code",
   "execution_count": 63,
   "metadata": {},
   "outputs": [],
   "source": [
    "## Decision Tree Classifier is the best model with 91.8% accuracy and $25831 of least false negetive cost.\n",
    "## Other models were also close enough to Decision tree classifier. \n",
    "## purchase_value though impacting the cost has lesser role to play in classifying a transaction is fraudulent OR not.\n",
    "## Given the high cost associated with falseNegative, I would recommend to adopt treeclf algorithm."
   ]
  },
  {
   "cell_type": "code",
   "execution_count": 64,
   "metadata": {
    "scrolled": true
   },
   "outputs": [
    {
     "data": {
      "text/html": [
       "<div>\n",
       "<style scoped>\n",
       "    .dataframe tbody tr th:only-of-type {\n",
       "        vertical-align: middle;\n",
       "    }\n",
       "\n",
       "    .dataframe tbody tr th {\n",
       "        vertical-align: top;\n",
       "    }\n",
       "\n",
       "    .dataframe thead th {\n",
       "        text-align: right;\n",
       "    }\n",
       "</style>\n",
       "<table border=\"1\" class=\"dataframe\">\n",
       "  <thead>\n",
       "    <tr style=\"text-align: right;\">\n",
       "      <th></th>\n",
       "      <th>source_Direct</th>\n",
       "      <th>source_SEO</th>\n",
       "      <th>source_Ads</th>\n",
       "      <th>browser_Chrome</th>\n",
       "      <th>browser_FireFox</th>\n",
       "      <th>browser_IE</th>\n",
       "      <th>browser_Safari</th>\n",
       "      <th>browser_Opera</th>\n",
       "      <th>sex_M</th>\n",
       "      <th>sex_F</th>\n",
       "      <th>signup_time-purchase_time</th>\n",
       "      <th>purchase_value</th>\n",
       "      <th>age</th>\n",
       "      <th>N[device_id]</th>\n",
       "    </tr>\n",
       "  </thead>\n",
       "  <tbody>\n",
       "    <tr>\n",
       "      <th>0</th>\n",
       "      <td>0.0</td>\n",
       "      <td>1.0</td>\n",
       "      <td>0.0</td>\n",
       "      <td>0.0</td>\n",
       "      <td>0.0</td>\n",
       "      <td>1.0</td>\n",
       "      <td>0.0</td>\n",
       "      <td>0.0</td>\n",
       "      <td>0.0</td>\n",
       "      <td>1.0</td>\n",
       "      <td>-0.883410</td>\n",
       "      <td>-1.143551</td>\n",
       "      <td>-0.835293</td>\n",
       "      <td>-0.258280</td>\n",
       "    </tr>\n",
       "    <tr>\n",
       "      <th>1</th>\n",
       "      <td>1.0</td>\n",
       "      <td>0.0</td>\n",
       "      <td>0.0</td>\n",
       "      <td>0.0</td>\n",
       "      <td>0.0</td>\n",
       "      <td>0.0</td>\n",
       "      <td>0.0</td>\n",
       "      <td>1.0</td>\n",
       "      <td>0.0</td>\n",
       "      <td>1.0</td>\n",
       "      <td>0.873579</td>\n",
       "      <td>0.176463</td>\n",
       "      <td>-0.015378</td>\n",
       "      <td>-0.258280</td>\n",
       "    </tr>\n",
       "    <tr>\n",
       "      <th>2</th>\n",
       "      <td>0.0</td>\n",
       "      <td>0.0</td>\n",
       "      <td>1.0</td>\n",
       "      <td>1.0</td>\n",
       "      <td>0.0</td>\n",
       "      <td>0.0</td>\n",
       "      <td>0.0</td>\n",
       "      <td>0.0</td>\n",
       "      <td>1.0</td>\n",
       "      <td>0.0</td>\n",
       "      <td>0.369936</td>\n",
       "      <td>2.321485</td>\n",
       "      <td>-0.718163</td>\n",
       "      <td>0.214921</td>\n",
       "    </tr>\n",
       "    <tr>\n",
       "      <th>3</th>\n",
       "      <td>0.0</td>\n",
       "      <td>0.0</td>\n",
       "      <td>1.0</td>\n",
       "      <td>0.0</td>\n",
       "      <td>1.0</td>\n",
       "      <td>0.0</td>\n",
       "      <td>0.0</td>\n",
       "      <td>0.0</td>\n",
       "      <td>0.0</td>\n",
       "      <td>1.0</td>\n",
       "      <td>0.169777</td>\n",
       "      <td>0.176463</td>\n",
       "      <td>-1.538078</td>\n",
       "      <td>-0.258280</td>\n",
       "    </tr>\n",
       "    <tr>\n",
       "      <th>4</th>\n",
       "      <td>0.0</td>\n",
       "      <td>0.0</td>\n",
       "      <td>1.0</td>\n",
       "      <td>0.0</td>\n",
       "      <td>0.0</td>\n",
       "      <td>1.0</td>\n",
       "      <td>0.0</td>\n",
       "      <td>0.0</td>\n",
       "      <td>0.0</td>\n",
       "      <td>1.0</td>\n",
       "      <td>0.285259</td>\n",
       "      <td>0.341464</td>\n",
       "      <td>0.804537</td>\n",
       "      <td>-0.258280</td>\n",
       "    </tr>\n",
       "  </tbody>\n",
       "</table>\n",
       "</div>"
      ],
      "text/plain": [
       "   source_Direct  source_SEO  source_Ads  browser_Chrome  browser_FireFox  \\\n",
       "0            0.0         1.0         0.0             0.0              0.0   \n",
       "1            1.0         0.0         0.0             0.0              0.0   \n",
       "2            0.0         0.0         1.0             1.0              0.0   \n",
       "3            0.0         0.0         1.0             0.0              1.0   \n",
       "4            0.0         0.0         1.0             0.0              0.0   \n",
       "\n",
       "   browser_IE  browser_Safari  browser_Opera  sex_M  sex_F  \\\n",
       "0         1.0             0.0            0.0    0.0    1.0   \n",
       "1         0.0             0.0            1.0    0.0    1.0   \n",
       "2         0.0             0.0            0.0    1.0    0.0   \n",
       "3         0.0             0.0            0.0    0.0    1.0   \n",
       "4         1.0             0.0            0.0    0.0    1.0   \n",
       "\n",
       "   signup_time-purchase_time  purchase_value       age  N[device_id]  \n",
       "0                  -0.883410       -1.143551 -0.835293     -0.258280  \n",
       "1                   0.873579        0.176463 -0.015378     -0.258280  \n",
       "2                   0.369936        2.321485 -0.718163      0.214921  \n",
       "3                   0.169777        0.176463 -1.538078     -0.258280  \n",
       "4                   0.285259        0.341464  0.804537     -0.258280  "
      ]
     },
     "execution_count": 64,
     "metadata": {},
     "output_type": "execute_result"
    }
   ],
   "source": [
    "Xval_transAndScaled.head()"
   ]
  }
 ],
 "metadata": {
  "kernelspec": {
   "display_name": "Python 3",
   "language": "python",
   "name": "python3"
  },
  "language_info": {
   "codemirror_mode": {
    "name": "ipython",
    "version": 3
   },
   "file_extension": ".py",
   "mimetype": "text/x-python",
   "name": "python",
   "nbconvert_exporter": "python",
   "pygments_lexer": "ipython3",
   "version": "3.7.1"
  }
 },
 "nbformat": 4,
 "nbformat_minor": 1
}
